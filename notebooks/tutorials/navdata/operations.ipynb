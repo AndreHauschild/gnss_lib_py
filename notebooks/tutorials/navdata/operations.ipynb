{
 "cells": [
  {
   "cell_type": "markdown",
   "metadata": {},
   "source": [
    "This tutorial shows how to use the `NavData` class, including how to initialize\n",
    "instances and perform basic operations."
   ]
  },
  {
   "cell_type": "code",
   "execution_count": 1,
   "metadata": {},
   "outputs": [],
   "source": [
    "import gnss_lib_py as glp"
   ]
  },
  {
   "cell_type": "code",
   "execution_count": 2,
   "metadata": {},
   "outputs": [],
   "source": [
    "# Get data path of example file\n",
    "!wget https://raw.githubusercontent.com/Stanford-NavLab/gnss_lib_py/main/notebooks/tutorials/myreceiver.csv --quiet -O \"myreceiver.csv\"\n",
    "data_path = \"myreceiver.csv\""
   ]
  },
  {
   "cell_type": "markdown",
   "metadata": {},
   "source": [
    "# NavData Operations"
   ]
  },
  {
   "cell_type": "markdown",
   "metadata": {},
   "source": [
    "Create a NavData class from a csv file"
   ]
  },
  {
   "cell_type": "code",
   "execution_count": 3,
   "metadata": {},
   "outputs": [
    {
     "name": "stdout",
     "output_type": "stream",
     "text": [
      "   myTimestamp  mySatId  myPseudorange\n",
      "0           10       10      270000001\n",
      "1           10       14      270000007\n",
      "2           10        7      270000004\n",
      "3           10        3      270000005\n",
      "4           11       10      270000002\n",
      "5           11       14      270000008\n",
      "6           11        7      270000003\n",
      "7           11        3      270000004\n"
     ]
    }
   ],
   "source": [
    "navdata = glp.NavData(csv_path=data_path)\n",
    "print(navdata)"
   ]
  },
  {
   "cell_type": "markdown",
   "metadata": {},
   "source": [
    "## Looping across a Time Row"
   ]
  },
  {
   "cell_type": "markdown",
   "metadata": {},
   "source": [
    "You can use the `NavData.loop_time()` method to loop over groups of data that belong to same time stamp."
   ]
  },
  {
   "cell_type": "code",
   "execution_count": 4,
   "metadata": {},
   "outputs": [
    {
     "name": "stdout",
     "output_type": "stream",
     "text": [
      "Current timestamp:  10\n",
      "Difference between current and future time step 0\n",
      "Current group of data\n",
      "   myTimestamp  mySatId  myPseudorange\n",
      "0           10       10      270000001\n",
      "1           10       14      270000007\n",
      "2           10        7      270000004\n",
      "3           10        3      270000005\n",
      "Current timestamp:  11\n",
      "Difference between current and future time step 1\n",
      "Current group of data\n",
      "   myTimestamp  mySatId  myPseudorange\n",
      "0           11       10      270000002\n",
      "1           11       14      270000008\n",
      "2           11        7      270000003\n",
      "3           11        3      270000004\n"
     ]
    }
   ],
   "source": [
    "for timestamp, delta_t, navdata_subset in glp.loop_time(navdata,'myTimestamp'):\n",
    "    print('Current timestamp: ', timestamp)\n",
    "    print('Difference between current and future time step', delta_t)\n",
    "    print('Current group of data')\n",
    "    print(navdata_subset)"
   ]
  },
  {
   "cell_type": "markdown",
   "metadata": {},
   "source": [
    "## Concatenating NavData Instances"
   ]
  },
  {
   "cell_type": "markdown",
   "metadata": {},
   "source": [
    "Use the `glp.concat()` method to concatenate two or more `NavData` instances. Each type of data is included in a row, so adding new rows with ``axis=0``, means adding new types of data. Concat requires that the new NavData matches the length of the existing NavData. Row concatenation assumes the same ordering within rows across both NavData instances (e.g. sorted by timestamp) and does not perform any matching/sorting itself. If the concatenating navdatas share a column name with ``axis=0`` then concat will add a suffix to create a unique row name."
   ]
  },
  {
   "cell_type": "code",
   "execution_count": 5,
   "metadata": {},
   "outputs": [
    {
     "data": {
      "text/plain": [
       "   myTimestamp  mySatId  myPseudorange  myTimestamp_0  mySatId_0  \\\n",
       "0           10       10      270000001             10         10   \n",
       "1           10       14      270000007             10         14   \n",
       "2           10        7      270000004             10          7   \n",
       "3           10        3      270000005             10          3   \n",
       "4           11       10      270000002             11         10   \n",
       "5           11       14      270000008             11         14   \n",
       "6           11        7      270000003             11          7   \n",
       "7           11        3      270000004             11          3   \n",
       "\n",
       "   myPseudorange_0  \n",
       "0        270000001  \n",
       "1        270000007  \n",
       "2        270000004  \n",
       "3        270000005  \n",
       "4        270000002  \n",
       "5        270000008  \n",
       "6        270000003  \n",
       "7        270000004  "
      ]
     },
     "execution_count": 5,
     "metadata": {},
     "output_type": "execute_result"
    }
   ],
   "source": [
    "double_navdata = glp.concat(navdata, navdata, axis=0)\n",
    "double_navdata"
   ]
  },
  {
   "cell_type": "markdown",
   "metadata": {},
   "source": [
    "You can also concatenate new data to existing rows with ``axis=1``. If the row names of the new NavData instance don't match the row names ofthe existing NavData instance, the mismatched values will be filled with np.nan."
   ]
  },
  {
   "cell_type": "code",
   "execution_count": 6,
   "metadata": {},
   "outputs": [
    {
     "data": {
      "text/plain": [
       "    myTimestamp  mySatId  myPseudorange  myTimestamp_0  mySatId_0  \\\n",
       "0            10       10      270000001           10.0       10.0   \n",
       "1            10       14      270000007           10.0       14.0   \n",
       "2            10        7      270000004           10.0        7.0   \n",
       "3            10        3      270000005           10.0        3.0   \n",
       "4            11       10      270000002           11.0       10.0   \n",
       "5            11       14      270000008           11.0       14.0   \n",
       "6            11        7      270000003           11.0        7.0   \n",
       "7            11        3      270000004           11.0        3.0   \n",
       "8            10       10      270000001            NaN        NaN   \n",
       "9            10       14      270000007            NaN        NaN   \n",
       "10           10        7      270000004            NaN        NaN   \n",
       "11           10        3      270000005            NaN        NaN   \n",
       "12           11       10      270000002            NaN        NaN   \n",
       "13           11       14      270000008            NaN        NaN   \n",
       "14           11        7      270000003            NaN        NaN   \n",
       "15           11        3      270000004            NaN        NaN   \n",
       "\n",
       "    myPseudorange_0  \n",
       "0       270000001.0  \n",
       "1       270000007.0  \n",
       "2       270000004.0  \n",
       "3       270000005.0  \n",
       "4       270000002.0  \n",
       "5       270000008.0  \n",
       "6       270000003.0  \n",
       "7       270000004.0  \n",
       "8               NaN  \n",
       "9               NaN  \n",
       "10              NaN  \n",
       "11              NaN  \n",
       "12              NaN  \n",
       "13              NaN  \n",
       "14              NaN  \n",
       "15              NaN  "
      ]
     },
     "execution_count": 6,
     "metadata": {},
     "output_type": "execute_result"
    }
   ],
   "source": [
    "glp.concat(double_navdata, navdata, axis=1)"
   ]
  },
  {
   "cell_type": "markdown",
   "metadata": {},
   "source": [
    "## Sorting a NavData Instance based on Row Values"
   ]
  },
  {
   "cell_type": "markdown",
   "metadata": {},
   "source": [
    "## Interpolate NaN values in a NavData Row"
   ]
  },
  {
   "cell_type": "code",
   "execution_count": null,
   "metadata": {},
   "outputs": [],
   "source": []
  }
 ],
 "metadata": {
  "kernelspec": {
   "display_name": "Python 3 (ipykernel)",
   "language": "python",
   "name": "python3"
  },
  "language_info": {
   "codemirror_mode": {
    "name": "ipython",
    "version": 3
   },
   "file_extension": ".py",
   "mimetype": "text/x-python",
   "name": "python",
   "nbconvert_exporter": "python",
   "pygments_lexer": "ipython3",
   "version": "3.8.9"
  },
  "vscode": {
   "interpreter": {
    "hash": "c7717b1dd2ec65abd747d44a25869d062db68d19263f8e701e26dddb0b153342"
   }
  }
 },
 "nbformat": 4,
 "nbformat_minor": 4
}
