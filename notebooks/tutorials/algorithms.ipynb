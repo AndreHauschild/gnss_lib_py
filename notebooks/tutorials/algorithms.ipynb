{
 "cells": [
  {
   "cell_type": "markdown",
   "id": "76ee7e5e",
   "metadata": {},
   "source": [
    "# Weighted Least Squares"
   ]
  },
  {
   "cell_type": "code",
   "execution_count": null,
   "id": "cce0e69e",
   "metadata": {},
   "outputs": [],
   "source": [
    "from gnss_lib_py.parsers.android import AndroidDerived2021\n",
    "from gnss_lib_py.algorithms.snapshot import solve_wls\n",
    "from gnss_lib_py.utils.visualizations import plot_map"
   ]
  },
  {
   "cell_type": "code",
   "execution_count": null,
   "id": "c335608f",
   "metadata": {},
   "outputs": [],
   "source": [
    "# load Android Google Challenge data\n",
    "!wget https://raw.githubusercontent.com/Stanford-NavLab/gnss_lib_py/main/data/unit_test/android_2021/Pixel4XL_derived.csv --quiet -O \"Pixel4XL_derived.csv\"\n",
    "derived_data = AndroidDerived2021(\"Pixel4XL_derived.csv\", remove_timing_outliers=False)"
   ]
  },
  {
   "cell_type": "markdown",
   "id": "3bc6b5dd",
   "metadata": {},
   "source": [
    "Solve for the Weighted Least Squares position estimate simply by passing the measurement data."
   ]
  },
  {
   "cell_type": "code",
   "execution_count": null,
   "id": "8f557028",
   "metadata": {},
   "outputs": [],
   "source": [
    "state = solve_wls(derived_data)"
   ]
  },
  {
   "cell_type": "markdown",
   "id": "a9bffc6c",
   "metadata": {},
   "source": [
    "Plot the ECEF x and ECEF y computed position estimate of the receiver"
   ]
  },
  {
   "cell_type": "code",
   "execution_count": null,
   "id": "ace0ae60",
   "metadata": {},
   "outputs": [],
   "source": [
    "plot_map(state)"
   ]
  },
  {
   "cell_type": "markdown",
   "id": "28b068e2",
   "metadata": {},
   "source": [
    "# Residuals"
   ]
  },
  {
   "cell_type": "code",
   "execution_count": null,
   "id": "60e040a3",
   "metadata": {},
   "outputs": [],
   "source": [
    "from gnss_lib_py.algorithms.residuals import solve_residuals\n",
    "from gnss_lib_py.utils.visualizations import plot_metric_by_constellation\n",
    "galileo_data = derived_data.where(\"gnss_id\",\"galileo\")"
   ]
  },
  {
   "cell_type": "markdown",
   "id": "a4ff4bdc",
   "metadata": {},
   "source": [
    "Solve for residuals using the estimated state. A new \"residuals_m\" row is added to derived_data"
   ]
  },
  {
   "cell_type": "code",
   "execution_count": null,
   "id": "7ab38367",
   "metadata": {},
   "outputs": [],
   "source": [
    "solve_residuals(galileo_data, state, inplace=True)"
   ]
  },
  {
   "cell_type": "markdown",
   "id": "6def9fe1",
   "metadata": {},
   "source": [
    "Plot the residuals using the `plot_residuals()` function. The residuals are broken up constellation and signal type and plotted on separate figures."
   ]
  },
  {
   "cell_type": "code",
   "execution_count": null,
   "id": "e12ccd20",
   "metadata": {},
   "outputs": [],
   "source": [
    "figs = plot_metric_by_constellation(galileo_data, \"gps_millis\", \"residuals_m\")"
   ]
  },
  {
   "cell_type": "markdown",
   "id": "44e300c3",
   "metadata": {},
   "source": [
    "# Multi-GNSS"
   ]
  },
  {
   "cell_type": "markdown",
   "id": "f92ade32",
   "metadata": {},
   "source": [
    "Solve for precise ephemerides and update derived_data class using array of sp3 and clk classes."
   ]
  },
  {
   "cell_type": "code",
   "execution_count": null,
   "id": "c6708193",
   "metadata": {},
   "outputs": [],
   "source": [
    "from gnss_lib_py.parsers.precise_ephemerides import parse_sp3, parse_clockfile\n",
    "from gnss_lib_py.algorithms.multi_gnss import compute_sv_gnss_from_precise_eph"
   ]
  },
  {
   "cell_type": "code",
   "execution_count": null,
   "id": "3647db8d",
   "metadata": {},
   "outputs": [],
   "source": [
    "# load Android Google Challenge data\n",
    "!wget https://raw.githubusercontent.com/Stanford-NavLab/gnss_lib_py/ramya/multiGNSS_sp3/data/unit_test/android_2021/Pixel4_derived_clkdiscnt.csv --quiet -O \"Pixel4_derived_clkdiscnt.csv\"\n",
    "derived_data = AndroidDerived2021(\"Pixel4_derived_clkdiscnt.csv\", remove_timing_outliers=False)\n",
    "derived_data_gps = derived_data.where(\"gnss_id\", \"gps\")"
   ]
  },
  {
   "cell_type": "code",
   "execution_count": null,
   "id": "b4601453",
   "metadata": {},
   "outputs": [],
   "source": [
    "# download .sp3 data file\n",
    "!wget https://raw.githubusercontent.com/Stanford-NavLab/gnss_lib_py/ramya/multiGNSS_sp3/data/unit_test/precise_ephemeris/grg21553_short.sp3 --quiet -O \"grg21553_short.sp3\"\n",
    "\n",
    "# Parse precise ephemerides, i.e., satellite position, from .sp3 data\n",
    "sp3data_gps = parse_sp3(\"grg21553_short.sp3\", constellation = 'gps')"
   ]
  },
  {
   "cell_type": "code",
   "execution_count": null,
   "id": "9db551d2",
   "metadata": {},
   "outputs": [],
   "source": [
    "# download .clk data file\n",
    "!wget https://raw.githubusercontent.com/Stanford-NavLab/gnss_lib_py/ramya/multiGNSS_sp3/data/unit_test/precise_ephemeris/grg21553_short.clk --quiet -O \"grg21553_short.clk\"\n",
    "\n",
    "# Parse precise ephemerides, i.e., satellite clock bias, from .clk data\n",
    "clkdata_gps = parse_clockfile(\"grg21553_short.clk\", constellation = 'gps')"
   ]
  },
  {
   "cell_type": "code",
   "execution_count": null,
   "id": "cda1a4a3",
   "metadata": {},
   "outputs": [],
   "source": [
    "# Update derived_data_gps class with satellite information computed via precise ephemerides\n",
    "derived_multi_gnss = compute_sv_gnss_from_precise_eph(derived_data_gps, sp3data_gps, \\\n",
    "                                                      clkdata_gps, verbose = False)"
   ]
  }
 ],
 "metadata": {
  "kernelspec": {
   "display_name": "Python 3 (ipykernel)",
   "language": "python",
   "name": "python3"
  },
  "language_info": {
   "codemirror_mode": {
    "name": "ipython",
    "version": 3
   },
   "file_extension": ".py",
   "mimetype": "text/x-python",
   "name": "python",
   "nbconvert_exporter": "python",
   "pygments_lexer": "ipython3",
   "version": "3.8.10"
  },
  "vscode": {
   "interpreter": {
    "hash": "c7717b1dd2ec65abd747d44a25869d062db68d19263f8e701e26dddb0b153342"
   }
  }
 },
 "nbformat": 4,
 "nbformat_minor": 5
}
