{
 "cells": [
  {
   "cell_type": "markdown",
   "id": "76ee7e5e",
   "metadata": {},
   "source": [
    "# Weighted Least Squares"
   ]
  },
  {
   "cell_type": "code",
   "execution_count": null,
   "id": "cce0e69e",
   "metadata": {},
   "outputs": [],
   "source": [
    "import os\n",
    "\n",
    "from gnss_lib_py.algorithms.snapshot import solve_wls\n",
    "from gnss_lib_py.utils.file_operations import get_lib_dir\n",
    "from gnss_lib_py.parsers.android import AndroidDerived\n",
    "from gnss_lib_py.utils.visualizations import plot_metric"
   ]
  },
  {
   "cell_type": "code",
   "execution_count": null,
   "id": "95682cca",
   "metadata": {},
   "outputs": [],
   "source": [
    "# if os.path.basename(os.path.dirname(os.getcwd())) == \"source\": # when building docs\n",
    "#     data_path = data_path = os.path.join(os.getcwd(),\"..\",\"..\",\"..\",\"data\",\"unit_test\",\"Pixel4XL_derived.csv\")\n",
    "# elif os.path.basename(os.path.dirname(os.getcwd())) == \"notebooks\": # when running notebook with jupyter\n",
    "#     data_path = data_path = os.path.join(os.getcwd(),\"..\",\"..\",\"data\",\"unit_test\",\"Pixel4XL_derived.csv\")"
   ]
  },
  {
   "cell_type": "code",
   "execution_count": null,
   "id": "c335608f",
   "metadata": {},
   "outputs": [],
   "source": [
    "# load Android Google Challenge data\n",
    "data_path = os.path.join(get_lib_dir(),\"data\",\"unit_test\",\"Pixel4XL_derived.csv\")\n",
    "derived_data = AndroidDerived(data_path)"
   ]
  },
  {
   "cell_type": "code",
   "execution_count": null,
   "id": "b0168516",
   "metadata": {},
   "outputs": [],
   "source": [
    "get_lib_dir()"
   ]
  },
  {
   "cell_type": "markdown",
   "id": "30576ff1",
   "metadata": {},
   "source": [
    "Solve for the Weighted Least Squares position estimate simply by passing the measurement data."
   ]
  },
  {
   "cell_type": "code",
   "execution_count": null,
   "id": "8f557028",
   "metadata": {},
   "outputs": [],
   "source": [
    "state = solve_wls(derived_data)"
   ]
  },
  {
   "cell_type": "markdown",
   "id": "0d561595",
   "metadata": {},
   "source": [
    "Plot the ECEF x and ECEF y computed position estimate of the receiver"
   ]
  },
  {
   "cell_type": "code",
   "execution_count": null,
   "id": "16d84528",
   "metadata": {},
   "outputs": [],
   "source": [
    "fig = plot_metric(state, \"x_rx_m\", \"y_rx_m\", save=False)"
   ]
  },
  {
   "cell_type": "markdown",
   "id": "28b068e2",
   "metadata": {},
   "source": [
    "# Residuals"
   ]
  },
  {
   "cell_type": "code",
   "execution_count": null,
   "id": "60e040a3",
   "metadata": {},
   "outputs": [],
   "source": [
    "from gnss_lib_py.utils.visualizations import plot_residuals\n",
    "from gnss_lib_py.algorithms.residuals import solve_residuals"
   ]
  },
  {
   "cell_type": "markdown",
   "id": "43e3fed9",
   "metadata": {},
   "source": [
    "Solve for residuals using the estimated state. A new \"residuals\" row is added to derived_data"
   ]
  },
  {
   "cell_type": "code",
   "execution_count": null,
   "id": "7ab38367",
   "metadata": {},
   "outputs": [],
   "source": [
    "solve_residuals(derived_data, state)"
   ]
  },
  {
   "cell_type": "markdown",
   "id": "2bea2bc1",
   "metadata": {},
   "source": [
    "Plot the residuals using the `plot_residuals()` function. The residuals are broken up constellation and signal type and plotted on separate figures."
   ]
  },
  {
   "cell_type": "code",
   "execution_count": null,
   "id": "4a0788a0",
   "metadata": {},
   "outputs": [],
   "source": [
    "figs = plot_residuals(derived_data, save=False)"
   ]
  }
 ],
 "metadata": {
  "kernelspec": {
   "display_name": "Python 3",
   "language": "python",
   "name": "python3"
  },
  "language_info": {
   "codemirror_mode": {
    "name": "ipython",
    "version": 3
   },
   "file_extension": ".py",
   "mimetype": "text/x-python",
   "name": "python",
   "nbconvert_exporter": "python",
   "pygments_lexer": "ipython3",
   "version": "3.8.9"
  }
 },
 "nbformat": 4,
 "nbformat_minor": 5
}
