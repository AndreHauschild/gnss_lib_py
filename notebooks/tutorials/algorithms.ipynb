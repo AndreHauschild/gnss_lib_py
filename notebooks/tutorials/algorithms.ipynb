{
 "cells": [
  {
   "cell_type": "markdown",
   "id": "76ee7e5e",
   "metadata": {},
   "source": [
    "# Weighted Least Squares"
   ]
  },
  {
   "cell_type": "code",
   "execution_count": null,
   "id": "cce0e69e",
   "metadata": {},
   "outputs": [],
   "source": [
    "import os\n",
    "\n",
    "from gnss_lib_py.algorithms.snapshot import solve_wls\n",
    "from gnss_lib_py.parsers.android import AndroidDerived\n",
    "from gnss_lib_py.utils.visualizations import plot_metric"
   ]
  },
  {
   "cell_type": "code",
   "execution_count": null,
   "id": "c335608f",
   "metadata": {},
   "outputs": [],
   "source": [
    "# load Android Google Challenge data\n",
    "data_path = os.path.join(\"../..\",\"data\",\"unit_test\",\"Pixel4XL_derived.csv\")\n",
    "derived_data = AndroidDerived(data_path)"
   ]
  },
  {
   "cell_type": "code",
   "execution_count": null,
   "id": "8f557028",
   "metadata": {},
   "outputs": [],
   "source": [
    "state = solve_wls(derived_data)\n",
    "fig = plot_metric(state, \"x_rx_m\", \"y_rx_m\", save=False)"
   ]
  },
  {
   "cell_type": "markdown",
   "id": "28b068e2",
   "metadata": {},
   "source": [
    "# Residuals"
   ]
  },
  {
   "cell_type": "code",
   "execution_count": null,
   "id": "60e040a3",
   "metadata": {},
   "outputs": [],
   "source": [
    "from gnss_lib_py.utils.visualizations import plot_residuals\n",
    "from gnss_lib_py.algorithms.residuals import solve_residuals"
   ]
  },
  {
   "cell_type": "code",
   "execution_count": null,
   "id": "7ab38367",
   "metadata": {},
   "outputs": [],
   "source": [
    "# solve for residuals and add them to derived_data\n",
    "solve_residuals(derived_data, state)\n",
    "\n",
    "# plot residuals\n",
    "figs = plot_residuals(derived_data, save=False)"
   ]
  }
 ],
 "metadata": {
  "kernelspec": {
   "display_name": "Python 3 (ipykernel)",
   "language": "python",
   "name": "python3"
  },
  "language_info": {
   "codemirror_mode": {
    "name": "ipython",
    "version": 3
   },
   "file_extension": ".py",
   "mimetype": "text/x-python",
   "name": "python",
   "nbconvert_exporter": "python",
   "pygments_lexer": "ipython3",
   "version": "3.8.9"
  }
 },
 "nbformat": 4,
 "nbformat_minor": 5
}
