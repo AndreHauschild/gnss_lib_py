{
 "cells": [
  {
   "cell_type": "markdown",
   "id": "76ee7e5e",
   "metadata": {},
   "source": [
    "# Weighted Least Squares"
   ]
  },
  {
   "cell_type": "code",
   "execution_count": null,
   "id": "cce0e69e",
   "metadata": {},
   "outputs": [],
   "source": [
    "import gnss_lib_py as glp"
   ]
  },
  {
   "cell_type": "code",
   "execution_count": null,
   "id": "c335608f",
   "metadata": {},
   "outputs": [],
   "source": [
    "# load Android Google Challenge data\n",
    "!wget https://raw.githubusercontent.com/Stanford-NavLab/gnss_lib_py/main/data/unit_test/android_2021/Pixel4XL_derived.csv --quiet -O \"Pixel4XL_derived.csv\"\n",
    "derived_data = glp.AndroidDerived2021(\"Pixel4XL_derived.csv\", remove_timing_outliers=False)"
   ]
  },
  {
   "cell_type": "markdown",
   "id": "3bc6b5dd",
   "metadata": {},
   "source": [
    "Solve for the Weighted Least Squares position estimate simply by passing the measurement data.\n",
    "\n",
    "When obtaining WLS estimates for real measurements, the rotation of the Earth between the signal transmission and reception has to be accounted for.\n",
    "`solve_wls` accounts for this by default and rotates the given SV positions into the ECEF frame of reference when the signals were received.\n",
    "\n",
    "In case you assume that the satellite positions are given for the ECEF frame of reference when the signals were received,\n",
    "this can be accomplished by setting the parameter `tx_time = False` in the function call."
   ]
  },
  {
   "cell_type": "code",
   "execution_count": null,
   "id": "8f557028",
   "metadata": {},
   "outputs": [],
   "source": [
    "state_wls = glp.solve_wls(derived_data)\n",
    "# When assuming that SV positions are given in the ECEF frame when signals are received use\n",
    "# state_wls = glp.solve_wls(derived_data, use_tx_time=True)"
   ]
  },
  {
   "cell_type": "markdown",
   "id": "a9bffc6c",
   "metadata": {},
   "source": [
    "Plot the ECEF x and ECEF y computed position estimate of the receiver"
   ]
  },
  {
   "cell_type": "code",
   "execution_count": null,
   "id": "ace0ae60",
   "metadata": {},
   "outputs": [],
   "source": [
    "glp.plot_map(state_wls)"
   ]
  },
  {
   "cell_type": "markdown",
   "id": "c68a3316",
   "metadata": {},
   "source": [
    "# Extended Kalman Filter"
   ]
  },
  {
   "cell_type": "code",
   "execution_count": null,
   "id": "a7bf5bfc",
   "metadata": {},
   "outputs": [],
   "source": [
    "import gnss_lib_py as glp"
   ]
  },
  {
   "cell_type": "code",
   "execution_count": null,
   "id": "c3b26664",
   "metadata": {},
   "outputs": [],
   "source": [
    "# load Android Google Challenge data\n",
    "!wget https://raw.githubusercontent.com/Stanford-NavLab/gnss_lib_py/main/data/unit_test/android_2021/Pixel4XL_derived.csv --quiet -O \"Pixel4XL_derived.csv\"\n",
    "derived_data = glp.AndroidDerived2021(\"Pixel4XL_derived.csv\", remove_timing_outliers=False)"
   ]
  },
  {
   "cell_type": "markdown",
   "id": "0387e03e",
   "metadata": {},
   "source": [
    "Solve for the Weighted Least Squares position estimate simply by passing the measurement data.\n",
    "\n",
    "The implemented EKF also assumes that the satellite positions are given for when the signals were transmitted and that\n",
    "they must be rotated to account for the change in the ECEF frame of reference.\n",
    "\n",
    "In this case, to change this default behaviour, pass a dictionary `init_dict` with the key-value pair `\"use_tx_time\": True`."
   ]
  },
  {
   "cell_type": "markdown",
   "id": "31e7b493",
   "metadata": {},
   "source": [
    "To prevent accidental usage of untuned process and measurement noises, `solve_gnss_ekf` requires an initialization \\\n",
    "dictionary containing values for the process noise `\"Q\"` and the measurement noise `\"R\"`.\n",
    "\n",
    "In the naive implementation, the noise matrix is set to the size of the measurement vector using the scalar value `\"R\"`."
   ]
  },
  {
   "cell_type": "code",
   "execution_count": null,
   "id": "2dfb8d75",
   "metadata": {},
   "outputs": [],
   "source": [
    "import numpy as np\n",
    "init_dict = {\"Q\": np.eye(7),\n",
    "             \"R\" : np.eye(1)}"
   ]
  },
  {
   "cell_type": "code",
   "execution_count": null,
   "id": "2615edfb",
   "metadata": {
    "scrolled": false
   },
   "outputs": [],
   "source": [
    "state_ekf = glp.solve_gnss_ekf(derived_data, init_dict)"
   ]
  },
  {
   "cell_type": "markdown",
   "id": "63c71960",
   "metadata": {},
   "source": [
    "Plot the ECEF x and ECEF y computed position estimate of the receiver"
   ]
  },
  {
   "cell_type": "code",
   "execution_count": null,
   "id": "336e4a0f",
   "metadata": {},
   "outputs": [],
   "source": [
    "glp.plot_map(state_ekf)"
   ]
  },
  {
   "cell_type": "markdown",
   "id": "28b068e2",
   "metadata": {},
   "source": [
    "# Residuals"
   ]
  },
  {
   "cell_type": "code",
   "execution_count": null,
   "id": "60e040a3",
   "metadata": {},
   "outputs": [],
   "source": [
    "import gnss_lib_py as glp"
   ]
  },
  {
   "cell_type": "code",
   "execution_count": null,
   "id": "12285e7e",
   "metadata": {},
   "outputs": [],
   "source": [
    "# load Android Google Challenge data\n",
    "!wget https://raw.githubusercontent.com/Stanford-NavLab/gnss_lib_py/main/data/unit_test/android_2021/Pixel4XL_derived.csv --quiet -O \"Pixel4XL_derived.csv\"\n",
    "derived_data = glp.AndroidDerived2021(\"Pixel4XL_derived.csv\", remove_timing_outliers=False)"
   ]
  },
  {
   "cell_type": "code",
   "execution_count": null,
   "id": "e92db703",
   "metadata": {},
   "outputs": [],
   "source": [
    "galileo_data = derived_data.where(\"gnss_id\",\"galileo\")"
   ]
  },
  {
   "cell_type": "markdown",
   "id": "a4ff4bdc",
   "metadata": {},
   "source": [
    "Solve for residuals using the estimated state. A new \"residuals_m\" row is added to derived_data"
   ]
  },
  {
   "cell_type": "code",
   "execution_count": null,
   "id": "7ab38367",
   "metadata": {},
   "outputs": [],
   "source": [
    "glp.solve_residuals(galileo_data, state_wls, inplace=True)"
   ]
  },
  {
   "cell_type": "markdown",
   "id": "6def9fe1",
   "metadata": {},
   "source": [
    "Plot the residuals using the `plot_residuals()` function. The residuals are broken up constellation and signal type and plotted on separate figures."
   ]
  },
  {
   "cell_type": "code",
   "execution_count": null,
   "id": "e12ccd20",
   "metadata": {},
   "outputs": [],
   "source": [
    "figs = glp.plot_metric_by_constellation(galileo_data, \"gps_millis\", \"residuals_m\")"
   ]
  },
  {
   "cell_type": "code",
   "execution_count": null,
   "id": "fdc6d9cb",
   "metadata": {},
   "outputs": [],
   "source": []
  }
 ],
 "metadata": {
  "kernelspec": {
   "display_name": "Python 3",
   "language": "python",
   "name": "python3"
  },
  "language_info": {
   "codemirror_mode": {
    "name": "ipython",
    "version": 3
   },
   "file_extension": ".py",
   "mimetype": "text/x-python",
   "name": "python",
   "nbconvert_exporter": "python",
   "pygments_lexer": "ipython3",
   "version": "3.8.9"
  },
  "vscode": {
   "interpreter": {
    "hash": "c7717b1dd2ec65abd747d44a25869d062db68d19263f8e701e26dddb0b153342"
   }
  }
 },
 "nbformat": 4,
 "nbformat_minor": 5
}
