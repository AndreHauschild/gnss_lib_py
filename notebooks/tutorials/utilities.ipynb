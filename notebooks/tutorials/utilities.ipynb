{
 "cells": [
  {
   "cell_type": "markdown",
   "id": "2b7e92ce",
   "metadata": {},
   "source": [
    "This tutorial illustrates a few of the most common utility functions available in the `utils` directory."
   ]
  },
  {
   "cell_type": "markdown",
   "id": "28b068e2",
   "metadata": {},
   "source": [
    "# Time Conversions"
   ]
  },
  {
   "cell_type": "code",
   "execution_count": null,
   "id": "60e040a3",
   "metadata": {},
   "outputs": [],
   "source": [
    "from datetime import datetime\n",
    "from gnss_lib_py.utils.time_conversions import datetime_to_tow"
   ]
  },
  {
   "cell_type": "markdown",
   "id": "a4ff4bdc",
   "metadata": {},
   "source": [
    "`datetime_to_tow` is used to convert from a Python datetime object to the GPS Week and time of week in seconds."
   ]
  },
  {
   "cell_type": "code",
   "execution_count": null,
   "id": "7ab38367",
   "metadata": {},
   "outputs": [],
   "source": [
    "time_now = datetime.now()\n",
    "time_now"
   ]
  },
  {
   "cell_type": "code",
   "execution_count": null,
   "id": "528d207b",
   "metadata": {},
   "outputs": [],
   "source": [
    "gps_week, gps_tow = datetime_to_tow(time_now)"
   ]
  },
  {
   "cell_type": "code",
   "execution_count": null,
   "id": "e12ccd20",
   "metadata": {},
   "outputs": [],
   "source": [
    "gps_week, gps_tow"
   ]
  },
  {
   "cell_type": "markdown",
   "id": "76ee7e5e",
   "metadata": {},
   "source": [
    "# Visualizations"
   ]
  },
  {
   "cell_type": "markdown",
   "id": "952766c1",
   "metadata": {},
   "source": [
    "The `visualizations.py` file contains several plotting functionalities. We'll use some existing data to demonstrate their functionality."
   ]
  },
  {
   "cell_type": "code",
   "execution_count": null,
   "id": "cce0e69e",
   "metadata": {},
   "outputs": [],
   "source": [
    "import os\n",
    "\n",
    "from gnss_lib_py.parsers.android import AndroidDerived\n",
    "from gnss_lib_py.utils.file_operations import get_lib_dir\n",
    "\n",
    "# load Android Google Challenge data\n",
    "!wget https://raw.githubusercontent.com/Stanford-NavLab/gnss_lib_py/main/data/unit_test/Pixel4XL_derived.csv --quiet -O \"Pixel4XL_derived.csv\"\n",
    "derived_data = AndroidDerived(\"Pixel4XL_derived.csv\")"
   ]
  },
  {
   "cell_type": "markdown",
   "id": "b8d0b63e",
   "metadata": {},
   "source": [
    "`plot_metric` is the most basic plotting function to plot a column. By default, the plotting functions save plots to the `results` folder, but you can add `save=False` to instead return the figure object."
   ]
  },
  {
   "cell_type": "code",
   "execution_count": null,
   "id": "bda6ead3",
   "metadata": {},
   "outputs": [],
   "source": [
    "from gnss_lib_py.utils.visualizations import plot_metric\n",
    "\n",
    "fig = plot_metric(derived_data, \"raw_pr_m\", save=False)"
   ]
  },
  {
   "cell_type": "markdown",
   "id": "8b2b6b76",
   "metadata": {},
   "source": [
    "`plot_metric` can also plot two rows against each other."
   ]
  },
  {
   "cell_type": "code",
   "execution_count": null,
   "id": "e170db19",
   "metadata": {},
   "outputs": [],
   "source": [
    "fig = plot_metric(derived_data, \"raw_pr_m\", \"iono_delay_m\", save=False)"
   ]
  },
  {
   "cell_type": "markdown",
   "id": "e55e745e",
   "metadata": {},
   "source": [
    "`plot_metric_by_constellation` is similar to `plot_metric` but it breaks up the data into separate figures by constellation and signal type. You need values for rows called `sv_id` and `signal_type` to use this function. We can quickly see that the raw pseudorange value is much more informative when we can separate by constellation and satellite!"
   ]
  },
  {
   "cell_type": "code",
   "execution_count": null,
   "id": "fb7a7062",
   "metadata": {},
   "outputs": [],
   "source": [
    "from gnss_lib_py.utils.visualizations import plot_metric_by_constellation\n",
    "\n",
    "fig = plot_metric_by_constellation(derived_data, \"raw_pr_m\", save=False)"
   ]
  },
  {
   "cell_type": "markdown",
   "id": "f3c75306",
   "metadata": {},
   "source": [
    "The `plot_skyplot` function plots the satellite skyplot using the satellite positions and estimate receiver position."
   ]
  },
  {
   "cell_type": "code",
   "execution_count": null,
   "id": "56a5e4c8",
   "metadata": {},
   "outputs": [],
   "source": [
    "from gnss_lib_py.algorithms.snapshot import solve_wls\n",
    "from gnss_lib_py.utils.visualizations import plot_skyplot\n",
    "\n",
    "state_estimate = solve_wls(derived_data)\n",
    "\n",
    "fig = plot_skyplot(derived_data, state_estimate, save=False)"
   ]
  },
  {
   "cell_type": "markdown",
   "id": "47105740",
   "metadata": {},
   "source": [
    "`plot_residuals` is optimized for plotting calculated residuals."
   ]
  },
  {
   "cell_type": "code",
   "execution_count": null,
   "id": "69a440c3",
   "metadata": {},
   "outputs": [],
   "source": [
    "from gnss_lib_py.utils.visualizations import plot_residuals\n",
    "from gnss_lib_py.algorithms.residuals import solve_residuals\n",
    "\n",
    "solve_residuals(derived_data, state_estimate)\n",
    "\n",
    "figs = plot_residuals(derived_data, save=False)"
   ]
  }
 ],
 "metadata": {
  "kernelspec": {
   "display_name": "Python 3",
   "language": "python",
   "name": "python3"
  },
  "language_info": {
   "codemirror_mode": {
    "name": "ipython",
    "version": 3
   },
   "file_extension": ".py",
   "mimetype": "text/x-python",
   "name": "python",
   "nbconvert_exporter": "python",
   "pygments_lexer": "ipython3",
   "version": "3.8.9"
  }
 },
 "nbformat": 4,
 "nbformat_minor": 5
}
