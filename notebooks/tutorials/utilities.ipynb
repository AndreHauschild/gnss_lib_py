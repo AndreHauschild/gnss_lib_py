{
 "cells": [
  {
   "cell_type": "markdown",
   "id": "2b7e92ce",
   "metadata": {},
   "source": [
    "This tutorial illustrates a few of the most common utility functions available in the `utils` directory."
   ]
  },
  {
   "cell_type": "markdown",
   "id": "28b068e2",
   "metadata": {},
   "source": [
    "# Time Conversions"
   ]
  },
  {
   "cell_type": "markdown",
   "id": "07f3d8f4",
   "metadata": {},
   "source": [
    "Time conversion utilities exist between the four modes of GPS Week and time of week in seconds, GPS milliseconds since start of GPS Epoch, Unix milliseconds since start of unix epoch, and Python datetime objects (timezone assumed to be UTC if none provided).\n",
    "\n",
    "Functionality exists for all 12 combinations between the four time instances, but here we show just one example of looping through each instance time."
   ]
  },
  {
   "cell_type": "code",
   "execution_count": null,
   "id": "60e040a3",
   "metadata": {},
   "outputs": [],
   "source": [
    "from datetime import datetime, timezone\n",
    "import gnss_lib_py.utils.time_conversions as tc"
   ]
  },
  {
   "cell_type": "markdown",
   "id": "a4ff4bdc",
   "metadata": {},
   "source": [
    "Methods to convert `datetime` to the other types of time instances."
   ]
  },
  {
   "cell_type": "code",
   "execution_count": null,
   "id": "7ab38367",
   "metadata": {},
   "outputs": [],
   "source": [
    "time_now = datetime.now(tz=timezone.utc)\n",
    "time_now\n",
    "\n",
    "# convert datetime to GPS week and GPS time of week\n",
    "gps_week, gps_tow = tc.datetime_to_tow(time_now)\n",
    "print(f\"gps week: {gps_week} gps tow: {gps_tow}\")\n",
    "\n",
    "# convert datetime to GPS milliseconds\n",
    "gps_millis = tc.datetime_to_gps_millis(time_now)\n",
    "print(f\"GPS milliseconds: {gps_millis}\")\n",
    "\n",
    "# convert datetime to UNIX milliseconds\n",
    "unix_millis = tc.datetime_to_unix_millis(time_now)\n",
    "print(f\"UNIX milliseconds: {unix_millis}\")"
   ]
  },
  {
   "cell_type": "markdown",
   "id": "a147a343",
   "metadata": {},
   "source": [
    "Methods to convert GPS week and GPS time of week to the other types of time instances."
   ]
  },
  {
   "cell_type": "code",
   "execution_count": null,
   "id": "528d207b",
   "metadata": {},
   "outputs": [],
   "source": [
    "# convert GPS week and GPS time of week to datetime\n",
    "datetime = tc.tow_to_datetime(gps_week, gps_tow)\n",
    "print(\"datetime in UTC: \",datetime.strftime(\"%d %B, %Y %H:%M:%S\"))\n",
    "\n",
    "# convert GPS week and GPS time to GPS milliseconds\n",
    "gps_millis = tc.tow_to_gps_millis(gps_week, gps_tow)\n",
    "print(f\"GPS milliseconds: {gps_millis}\")\n",
    "\n",
    "# convert GPS week and GPS time to UNIX milliseconds\n",
    "unix_millis = tc.tow_to_unix_millis(gps_week, gps_tow)\n",
    "print(f\"UNIX milliseconds: {unix_millis}\")"
   ]
  },
  {
   "cell_type": "markdown",
   "id": "01237ead",
   "metadata": {},
   "source": [
    "Methods to convert GPS milliseconds to other types of time instances."
   ]
  },
  {
   "cell_type": "code",
   "execution_count": null,
   "id": "e12ccd20",
   "metadata": {},
   "outputs": [],
   "source": [
    "# convert GPS milliseconds to datetime\n",
    "datetime = tc.gps_millis_to_datetime(gps_millis)\n",
    "print(\"datetime in UTC: \",datetime.strftime(\"%d %B, %Y %H:%M:%S\"))\n",
    "\n",
    "# convert GPS milliseconds to GPS week and GPS time\n",
    "gps_week, gps_tow = tc.gps_millis_to_tow(gps_millis)\n",
    "print(f\"gps week: {gps_week} gps tow: {gps_tow}\")\n",
    "\n",
    "# convert GPS milliseconds to UNIX milliseconds\n",
    "unix_millis = tc.gps_to_unix_millis(gps_millis)\n",
    "print(f\"UNIX milliseconds: {unix_millis}\")"
   ]
  },
  {
   "cell_type": "markdown",
   "id": "2e58b4ae",
   "metadata": {},
   "source": [
    "Methods to convert UNIX milliseconds to other types of time instances."
   ]
  },
  {
   "cell_type": "code",
   "execution_count": null,
   "id": "6367a59d",
   "metadata": {},
   "outputs": [],
   "source": [
    "# convert UNIX milliseconds to datetime\n",
    "datetime = tc.unix_millis_to_datetime(unix_millis)\n",
    "print(\"datetime in UTC: \",datetime.strftime(\"%d %B, %Y %H:%M:%S\"))\n",
    "\n",
    "# convert UNIX milliseconds to GPS week and GPS time\n",
    "gps_week, gps_tow = tc.unix_millis_to_tow(unix_millis)\n",
    "print(f\"gps week: {gps_week} gps tow: {gps_tow}\")\n",
    "\n",
    "# convert GPS milliseconds to UNIX milliseconds\n",
    "gps_millis = tc.unix_to_gps_millis(unix_millis)\n",
    "print(f\"GPS milliseconds: {gps_millis}\")"
   ]
  },
  {
   "cell_type": "markdown",
   "id": "76ee7e5e",
   "metadata": {},
   "source": [
    "# Visualizations"
   ]
  },
  {
   "cell_type": "markdown",
   "id": "952766c1",
   "metadata": {},
   "source": [
    "The `visualizations.py` file contains several plotting functionalities. We'll use some existing data to demonstrate their functionality.\n",
    "\n",
    "**Note:** In this case, the example data is filtered to be seconds apart, in the regular\n",
    "setting, such measurements would be removed. To prevent this from happening,\n",
    "we set remove_timing_outliers to False here. For the full dataset, set this flag to True"
   ]
  },
  {
   "cell_type": "code",
   "execution_count": null,
   "id": "cce0e69e",
   "metadata": {},
   "outputs": [],
   "source": [
    "from gnss_lib_py.parsers.android import AndroidDerived2021\n",
    "\n",
    "# load Android Google Challenge data\n",
    "!wget https://raw.githubusercontent.com/Stanford-NavLab/gnss_lib_py/main/data/unit_test/android_2021/Pixel4XL_derived.csv --quiet -O \"Pixel4XL_derived.csv\"\n",
    "derived_data = AndroidDerived2021(\"Pixel4XL_derived.csv\", remove_timing_outliers=False)"
   ]
  },
  {
   "cell_type": "markdown",
   "id": "b8d0b63e",
   "metadata": {},
   "source": [
    "`plot_metric` is the most basic plotting function to plot a row. You need to input the `navdata` object and what row(s) you want to plot. For single rows, it will plot against a default index."
   ]
  },
  {
   "cell_type": "code",
   "execution_count": null,
   "id": "bda6ead3",
   "metadata": {},
   "outputs": [],
   "source": [
    "from gnss_lib_py.utils.visualizations import plot_metric\n",
    "\n",
    "glonass_data = derived_data.where(\"gnss_id\",\"glonass\")\n",
    "fig = plot_metric(glonass_data, \"raw_pr_m\", linestyle=\"None\")"
   ]
  },
  {
   "cell_type": "markdown",
   "id": "8b2b6b76",
   "metadata": {},
   "source": [
    "You can also use `plot_metric` to plot two rows against each other."
   ]
  },
  {
   "cell_type": "code",
   "execution_count": null,
   "id": "e170db19",
   "metadata": {},
   "outputs": [],
   "source": [
    "fig = plot_metric(glonass_data, \"iono_delay_m\", \"tropo_delay_m\", linestyle=\"none\")"
   ]
  },
  {
   "cell_type": "markdown",
   "id": "99310de6",
   "metadata": {},
   "source": [
    "For a more informative plot, you can also group by."
   ]
  },
  {
   "cell_type": "code",
   "execution_count": null,
   "id": "c48acd91",
   "metadata": {
    "scrolled": true
   },
   "outputs": [],
   "source": [
    "fig = plot_metric(glonass_data, \"iono_delay_m\", \"tropo_delay_m\", groupby=\"sv_id\")"
   ]
  },
  {
   "cell_type": "markdown",
   "id": "d7ab5bbd",
   "metadata": {},
   "source": [
    "By default, the visualization tools do not save to file, but you can save them to file by setting the `save` flag to `True`. Check out the documentatoin "
   ]
  },
  {
   "cell_type": "code",
   "execution_count": null,
   "id": "a708ed1a",
   "metadata": {},
   "outputs": [],
   "source": []
  },
  {
   "cell_type": "code",
   "execution_count": null,
   "id": "97dda658",
   "metadata": {},
   "outputs": [],
   "source": []
  },
  {
   "cell_type": "code",
   "execution_count": null,
   "id": "a46a89f8",
   "metadata": {},
   "outputs": [],
   "source": []
  },
  {
   "cell_type": "code",
   "execution_count": null,
   "id": "2fe67ef8",
   "metadata": {},
   "outputs": [],
   "source": []
  },
  {
   "cell_type": "markdown",
   "id": "055e0d9e",
   "metadata": {},
   "source": [
    "By default, the plotting functions save plots to the `results` folder, but you can add `save=False` to instead return the figure object."
   ]
  },
  {
   "cell_type": "code",
   "execution_count": null,
   "id": "0ade85ce",
   "metadata": {},
   "outputs": [],
   "source": []
  },
  {
   "cell_type": "markdown",
   "id": "e55e745e",
   "metadata": {},
   "source": [
    "`plot_metric_by_constellation` is similar to `plot_metric` but it breaks up the data into separate figures by constellation and signal type. You need values for rows called `sv_id` and `signal_type` to use this function. We can quickly see that the raw pseudorange value is much more informative when we can separate by constellation and satellite!"
   ]
  },
  {
   "cell_type": "code",
   "execution_count": null,
   "id": "fb7a7062",
   "metadata": {},
   "outputs": [],
   "source": [
    "from gnss_lib_py.utils.visualizations import plot_metric_by_constellation\n",
    "\n",
    "fig = plot_metric_by_constellation(derived_data, \"gps_millis\", \"raw_pr_m\", save=False)"
   ]
  },
  {
   "cell_type": "markdown",
   "id": "f3c75306",
   "metadata": {},
   "source": [
    "The `plot_skyplot` function plots the satellite skyplot using the satellite positions and estimate receiver position."
   ]
  },
  {
   "cell_type": "code",
   "execution_count": null,
   "id": "56a5e4c8",
   "metadata": {},
   "outputs": [],
   "source": [
    "from gnss_lib_py.algorithms.snapshot import solve_wls\n",
    "from gnss_lib_py.utils.visualizations import plot_skyplot\n",
    "\n",
    "state_estimate = solve_wls(derived_data)\n",
    "\n",
    "fig = plot_skyplot(derived_data, state_estimate, save=False)"
   ]
  }
 ],
 "metadata": {
  "kernelspec": {
   "display_name": "Python 3",
   "language": "python",
   "name": "python3"
  },
  "language_info": {
   "codemirror_mode": {
    "name": "ipython",
    "version": 3
   },
   "file_extension": ".py",
   "mimetype": "text/x-python",
   "name": "python",
   "nbconvert_exporter": "python",
   "pygments_lexer": "ipython3",
   "version": "3.8.9"
  }
 },
 "nbformat": 4,
 "nbformat_minor": 5
}
