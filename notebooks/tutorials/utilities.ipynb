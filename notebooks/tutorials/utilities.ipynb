{
 "cells": [
  {
   "cell_type": "markdown",
   "id": "2b7e92ce",
   "metadata": {},
   "source": [
    "This tutorial illustrates a few of the most common utility functions available in the `utils` directory."
   ]
  },
  {
   "cell_type": "markdown",
   "id": "28b068e2",
   "metadata": {},
   "source": [
    "# Time Conversions"
   ]
  },
  {
   "cell_type": "markdown",
   "id": "07f3d8f4",
   "metadata": {},
   "source": [
    "Time conversion utilities exist between the four modes of GPS Week and time of week in seconds, GPS milliseconds since start of GPS Epoch, Unix milliseconds since start of unix epoch, and Python datetime objects (timezone assumed to be UTC if none provided).\n",
    "\n",
    "Functionality exists for all 12 combinations between the four time instances, but here we show just one example of looping through each instance time."
   ]
  },
  {
   "cell_type": "code",
   "execution_count": null,
   "id": "60e040a3",
   "metadata": {},
   "outputs": [],
   "source": [
    "from datetime import datetime, timezone\n",
    "import gnss_lib_py.utils.time_conversions as tc"
   ]
  },
  {
   "cell_type": "markdown",
   "id": "a4ff4bdc",
   "metadata": {},
   "source": [
    "Methods to convert `datetime` to the other types of time instances."
   ]
  },
  {
   "cell_type": "code",
   "execution_count": null,
   "id": "7ab38367",
   "metadata": {},
   "outputs": [],
   "source": [
    "time_now = datetime.now(tz=timezone.utc)\n",
    "time_now\n",
    "\n",
    "# convert datetime to GPS week and GPS time of week\n",
    "gps_week, gps_tow = tc.datetime_to_tow(time_now)\n",
    "print(f\"gps week: {gps_week} gps tow: {gps_tow}\")\n",
    "\n",
    "# convert datetime to GPS milliseconds\n",
    "gps_millis = tc.datetime_to_gps_millis(time_now)\n",
    "print(f\"GPS milliseconds: {gps_millis}\")\n",
    "\n",
    "# convert datetime to UNIX milliseconds\n",
    "unix_millis = tc.datetime_to_unix_millis(time_now)\n",
    "print(f\"UNIX milliseconds: {unix_millis}\")"
   ]
  },
  {
   "cell_type": "markdown",
   "id": "a147a343",
   "metadata": {},
   "source": [
    "Methods to convert GPS week and GPS time of week to the other types of time instances."
   ]
  },
  {
   "cell_type": "code",
   "execution_count": null,
   "id": "528d207b",
   "metadata": {},
   "outputs": [],
   "source": [
    "# convert GPS week and GPS time of week to datetime\n",
    "datetime = tc.tow_to_datetime(gps_week, gps_tow)\n",
    "print(\"datetime in UTC: \",datetime.strftime(\"%d %B, %Y %H:%M:%S\"))\n",
    "\n",
    "# convert GPS week and GPS time to GPS milliseconds\n",
    "gps_millis = tc.tow_to_gps_millis(gps_week, gps_tow)\n",
    "print(f\"GPS milliseconds: {gps_millis}\")\n",
    "\n",
    "# convert GPS week and GPS time to UNIX milliseconds\n",
    "unix_millis = tc.tow_to_unix_millis(gps_week, gps_tow)\n",
    "print(f\"UNIX milliseconds: {unix_millis}\")"
   ]
  },
  {
   "cell_type": "markdown",
   "id": "01237ead",
   "metadata": {},
   "source": [
    "Methods to convert GPS milliseconds to other types of time instances."
   ]
  },
  {
   "cell_type": "code",
   "execution_count": null,
   "id": "e12ccd20",
   "metadata": {},
   "outputs": [],
   "source": [
    "# convert GPS milliseconds to datetime\n",
    "datetime = tc.gps_millis_to_datetime(gps_millis)\n",
    "print(\"datetime in UTC: \",datetime.strftime(\"%d %B, %Y %H:%M:%S\"))\n",
    "\n",
    "# convert GPS milliseconds to GPS week and GPS time\n",
    "gps_week, gps_tow = tc.gps_millis_to_tow(gps_millis)\n",
    "print(f\"gps week: {gps_week} gps tow: {gps_tow}\")\n",
    "\n",
    "# convert GPS milliseconds to UNIX milliseconds\n",
    "unix_millis = tc.gps_to_unix_millis(gps_millis)\n",
    "print(f\"UNIX milliseconds: {unix_millis}\")"
   ]
  },
  {
   "cell_type": "markdown",
   "id": "2e58b4ae",
   "metadata": {},
   "source": [
    "Methods to convert UNIX milliseconds to other types of time instances."
   ]
  },
  {
   "cell_type": "code",
   "execution_count": null,
   "id": "6367a59d",
   "metadata": {},
   "outputs": [],
   "source": [
    "# convert UNIX milliseconds to datetime\n",
    "datetime = tc.unix_millis_to_datetime(unix_millis)\n",
    "print(\"datetime in UTC: \",datetime.strftime(\"%d %B, %Y %H:%M:%S\"))\n",
    "\n",
    "# convert UNIX milliseconds to GPS week and GPS time\n",
    "gps_week, gps_tow = tc.unix_millis_to_tow(unix_millis)\n",
    "print(f\"gps week: {gps_week} gps tow: {gps_tow}\")\n",
    "\n",
    "# convert GPS milliseconds to UNIX milliseconds\n",
    "gps_millis = tc.unix_to_gps_millis(unix_millis)\n",
    "print(f\"GPS milliseconds: {gps_millis}\")"
   ]
  },
  {
   "cell_type": "markdown",
   "id": "76ee7e5e",
   "metadata": {},
   "source": [
    "# Coordinates"
   ]
  },
  {
   "cell_type": "markdown",
   "id": "952766c1",
   "metadata": {},
   "source": [
    "Find elevation and azimuth angle from receiver and satellite ECEF positions."
   ]
  },
  {
   "cell_type": "code",
   "execution_count": null,
   "id": "7469642e",
   "metadata": {},
   "outputs": [],
   "source": [
    "from gnss_lib_py.utils.coordinates import ecef_to_el_az\n",
    "from gnss_lib_py.parsers.android import AndroidDerived2022\n",
    "\n",
    "# load Android Google Challenge data\n",
    "!wget https://raw.githubusercontent.com/Stanford-NavLab/gnss_lib_py/main/data/unit_test/android_2022/device_gnss.csv --quiet -O \"device_gnss.csv\"\n",
    "navdata = AndroidDerived2022(\"device_gnss.csv\")\n",
    "navdata_subset = navdata.where(\"gps_millis\",navdata[\"gps_millis\",0]) # only use data from first timestep"
   ]
  },
  {
   "cell_type": "markdown",
   "id": "fd284f3e",
   "metadata": {},
   "source": [
    "To calculate the elevation and azimuth, pass in the receiver and satellites' ECEF positions."
   ]
  },
  {
   "cell_type": "code",
   "execution_count": null,
   "id": "7d5be2b4",
   "metadata": {},
   "outputs": [],
   "source": [
    "pos_sv_m = navdata_subset[[\"x_sv_m\",\"y_sv_m\",\"z_sv_m\"]].T\n",
    "pos_rx_m = navdata_subset[[\"WlsPositionXEcefMeters\",\n",
    "                           \"WlsPositionYEcefMeters\",\n",
    "                           \"WlsPositionZEcefMeters\"],0].reshape(1,-1)\n",
    "\n",
    "calculated_el_az = ecef_to_el_az(pos_rx_m,pos_sv_m)\n",
    "truth_el_az = navdata_subset[[\"el_sv_deg\",\"az_sv_deg\"]].T"
   ]
  },
  {
   "cell_type": "markdown",
   "id": "6f1348ea",
   "metadata": {},
   "source": [
    "We can now compare the calculated elevation and azimuth with their respective \"truth\" values included in the Google Decimeter Challenge 2022 dataset."
   ]
  },
  {
   "cell_type": "code",
   "execution_count": null,
   "id": "b256241b",
   "metadata": {},
   "outputs": [],
   "source": [
    "for sat_idx in range(3):\n",
    "    print(f\"SV ID: {int(navdata_subset['sv_id',sat_idx])}\")\n",
    "    print(f\"Calculated elevation: {calculated_el_az[sat_idx,0]}, Truth elevation: {truth_el_az[sat_idx,0]}\")\n",
    "    print(f\"Calculated azimuth: {calculated_el_az[sat_idx,1]}, Truth azimuth: {truth_el_az[sat_idx,1]}\")"
   ]
  }
 ],
 "metadata": {
  "kernelspec": {
   "display_name": "Python 3",
   "language": "python",
   "name": "python3"
  },
  "language_info": {
   "codemirror_mode": {
    "name": "ipython",
    "version": 3
   },
   "file_extension": ".py",
   "mimetype": "text/x-python",
   "name": "python",
   "nbconvert_exporter": "python",
   "pygments_lexer": "ipython3",
   "version": "3.8.9"
  }
 },
 "nbformat": 4,
 "nbformat_minor": 5
}
