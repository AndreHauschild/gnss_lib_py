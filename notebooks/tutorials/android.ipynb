{
 "cells": [
  {
   "cell_type": "markdown",
   "id": "61a6fa8a-1182-4f5f-91b1-f6722ec4c426",
   "metadata": {},
   "source": [
    "# GnssLogger Android App"
   ]
  },
  {
   "cell_type": "markdown",
   "id": "7954f8b9-22f3-44ba-bf04-8dfedb40250b",
   "metadata": {},
   "source": [
    "This tutorial walks through how to parse the files obtained from [Google's GNSSLogger Android App](https://play.google.com/store/apps/details?id=com.google.android.apps.location.gps.gnsslogger&pcampaignid=web_share)."
   ]
  },
  {
   "cell_type": "markdown",
   "id": "2f86b121-14d4-479a-bf94-d6a79fe9cd7c",
   "metadata": {},
   "source": [
    "Load `gnss_lib_py` into the Python workspace"
   ]
  },
  {
   "cell_type": "code",
   "execution_count": null,
   "id": "0e012295-6e36-4c5a-8375-67c61e8f7688",
   "metadata": {},
   "outputs": [],
   "source": [
    "import gnss_lib_py as glp"
   ]
  },
  {
   "cell_type": "markdown",
   "id": "76ed5864-6e06-4c74-bb04-da2f8cd5ed3f",
   "metadata": {},
   "source": [
    "## Fix Measurements from gnss_log*.txt"
   ]
  },
  {
   "cell_type": "markdown",
   "id": "fe35ffb0-a43e-4419-aa36-6d91123911b6",
   "metadata": {},
   "source": [
    "Explain the three types of measurements."
   ]
  },
  {
   "cell_type": "markdown",
   "id": "92644095-2f36-4fbf-af07-b9e1b95ae32c",
   "metadata": {},
   "source": [
    "Download example measurement file from the GNSSLogger Android App."
   ]
  },
  {
   "cell_type": "code",
   "execution_count": null,
   "id": "382fab9f-16b9-4943-a243-52b580cf9ae8",
   "metadata": {},
   "outputs": [],
   "source": [
    "!wget https://raw.githubusercontent.com/Stanford-NavLab/gnss_lib_py/derek/android_raw/data/unit_test/android/measurements/pixel6.txt --quiet -O \"gnss_log.txt\""
   ]
  },
  {
   "cell_type": "markdown",
   "id": "c22ee775-9edf-454c-ac73-11030af8404a",
   "metadata": {},
   "source": [
    "Load fix data into the existing `glp.AndroidRawFixes` class."
   ]
  },
  {
   "cell_type": "code",
   "execution_count": null,
   "id": "d53e6149-124e-4333-9a99-e8a6e8802d92",
   "metadata": {},
   "outputs": [],
   "source": [
    "fix_data = glp.AndroidRawFixes(\"gnss_log.txt\")"
   ]
  },
  {
   "cell_type": "code",
   "execution_count": null,
   "id": "5ebd2026-1dbf-4250-947e-3af324bc59ee",
   "metadata": {},
   "outputs": [],
   "source": [
    "fix_data.shape"
   ]
  },
  {
   "cell_type": "markdown",
   "id": "3433bf17-b0cb-4d14-9c41-66334645205f",
   "metadata": {},
   "source": [
    "## Raw Measurements from gnss_log*.txt"
   ]
  },
  {
   "cell_type": "markdown",
   "id": "7add0b60-fbbf-4510-9d32-87993e4f9e35",
   "metadata": {},
   "source": [
    "Download example measurement file from the GNSSLogger Android App."
   ]
  },
  {
   "cell_type": "code",
   "execution_count": null,
   "id": "7814ff2f-e21b-4065-a03d-35323a8e4074",
   "metadata": {},
   "outputs": [],
   "source": [
    "# load Android Google Challenge data\n",
    "raw_data = glp.AndroidRawGnss(\"gnss_log.txt\")"
   ]
  },
  {
   "cell_type": "markdown",
   "id": "e8d89a65-e239-4dac-893a-189c3a6b4f7c",
   "metadata": {},
   "source": [
    "## NMEA from gnss_log*.nmea"
   ]
  },
  {
   "cell_type": "markdown",
   "id": "8a5be50c-9a29-4327-aa92-51e56f05474c",
   "metadata": {},
   "source": [
    "This is section about the application"
   ]
  },
  {
   "cell_type": "markdown",
   "id": "1702933f-2fc5-433b-8e97-7d3b5093f004",
   "metadata": {},
   "source": [
    "## Rinex Observations"
   ]
  },
  {
   "cell_type": "markdown",
   "id": "9ad404b8-388c-46a2-a00a-bcb764ab8994",
   "metadata": {},
   "source": [
    "This is section about the application"
   ]
  }
 ],
 "metadata": {
  "kernelspec": {
   "display_name": "Python 3 (ipykernel)",
   "language": "python",
   "name": "python3"
  },
  "language_info": {
   "codemirror_mode": {
    "name": "ipython",
    "version": 3
   },
   "file_extension": ".py",
   "mimetype": "text/x-python",
   "name": "python",
   "nbconvert_exporter": "python",
   "pygments_lexer": "ipython3",
   "version": "3.8.9"
  }
 },
 "nbformat": 4,
 "nbformat_minor": 5
}
