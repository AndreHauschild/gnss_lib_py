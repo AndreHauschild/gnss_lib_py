{
 "cells": [
  {
   "cell_type": "markdown",
   "id": "28b068e2",
   "metadata": {},
   "source": [
    "# Residuals"
   ]
  },
  {
   "cell_type": "code",
   "execution_count": null,
   "id": "60e040a3",
   "metadata": {},
   "outputs": [],
   "source": [
    "import gnss_lib_py as glp"
   ]
  },
  {
   "cell_type": "code",
   "execution_count": null,
   "id": "12285e7e",
   "metadata": {},
   "outputs": [],
   "source": [
    "# load Android Google Challenge data\n",
    "!wget https://raw.githubusercontent.com/Stanford-NavLab/gnss_lib_py/derek/android_raw/data/unit_test/google_decimeter_2021/Pixel4XL_derived.csv --quiet -O \"Pixel4XL_derived.csv\"\n",
    "derived_data = glp.AndroidDerived2021(\"Pixel4XL_derived.csv\", remove_timing_outliers=False)"
   ]
  },
  {
   "cell_type": "markdown",
   "id": "33f7cc62-cd1a-4c2d-9f97-78eb0134bcdb",
   "metadata": {},
   "source": [
    "## Calculating GNSS Pseudorange Residuals"
   ]
  },
  {
   "cell_type": "code",
   "execution_count": null,
   "id": "e92db703",
   "metadata": {},
   "outputs": [],
   "source": [
    "galileo_data = derived_data.where(\"gnss_id\",\"galileo\")"
   ]
  },
  {
   "cell_type": "markdown",
   "id": "a4ff4bdc",
   "metadata": {},
   "source": [
    "Solve for residuals using the estimated state. A new \"residuals_m\" row is added to derived_data"
   ]
  },
  {
   "cell_type": "code",
   "execution_count": null,
   "id": "7ab38367",
   "metadata": {},
   "outputs": [],
   "source": [
    "state_wls = glp.solve_wls(derived_data)\n",
    "glp.solve_residuals(galileo_data, state_wls, inplace=True)"
   ]
  },
  {
   "cell_type": "markdown",
   "id": "6def9fe1",
   "metadata": {},
   "source": [
    "Plot the residuals using the `plot_residuals()` function. The residuals are broken up constellation and signal type and plotted on separate figures."
   ]
  },
  {
   "cell_type": "code",
   "execution_count": null,
   "id": "e12ccd20",
   "metadata": {},
   "outputs": [],
   "source": [
    "figs = glp.plot_metric_by_constellation(galileo_data, \"gps_millis\", \"residuals_m\")"
   ]
  }
 ],
 "metadata": {
  "kernelspec": {
   "display_name": "Python 3 (ipykernel)",
   "language": "python",
   "name": "python3"
  },
  "language_info": {
   "codemirror_mode": {
    "name": "ipython",
    "version": 3
   },
   "file_extension": ".py",
   "mimetype": "text/x-python",
   "name": "python",
   "nbconvert_exporter": "python",
   "pygments_lexer": "ipython3",
   "version": "3.8.9"
  },
  "vscode": {
   "interpreter": {
    "hash": "c7717b1dd2ec65abd747d44a25869d062db68d19263f8e701e26dddb0b153342"
   }
  }
 },
 "nbformat": 4,
 "nbformat_minor": 5
}
