{
 "cells": [
  {
   "cell_type": "markdown",
   "metadata": {},
   "source": [
    "# DOP Metrics\n",
    "\n",
    "Dillution of Precision (DOP) describes the effect of satellite geometry on the \n",
    "user's positioning accuracy. \n",
    "DOP can refer to multiple ideas:\n",
    "1. The full DOP matrix (or tensor),\n",
    "2. DOP in the horizontal or vertical direction,\n",
    "3. DOP on the time uncertainty, or\n",
    "4. DOP in a particular direction.\n",
    "\n",
    "Here we show how to make use of existing functionality."
   ]
  },
  {
   "cell_type": "code",
   "execution_count": null,
   "metadata": {},
   "outputs": [],
   "source": [
    "import gnss_lib_py as glp\n",
    "\n",
    "import urllib.request"
   ]
  },
  {
   "cell_type": "markdown",
   "metadata": {},
   "source": [
    "As an example, we can load in data from the 2022 Google Smartphone Decimeter \n",
    "Challenge"
   ]
  },
  {
   "cell_type": "code",
   "execution_count": null,
   "metadata": {},
   "outputs": [],
   "source": [
    "glp.make_dir(\"../data\")\n",
    "# %wget https://raw.githubusercontent.com/Stanford-NavLab/gnss_lib_py/main/data/unit_test/google_decimeter_2022/device_gnss.csv --quiet -nc -O \"../data/device_gnss.csv\"\n",
    "\n",
    "urllib.request.urlretrieve(\"https://raw.githubusercontent.com/Stanford-NavLab/gnss_lib_py/main/data/unit_test/google_decimeter_2022/device_gnss.csv\", \"../data/device_gnss.csv\")\n",
    "\n",
    "navdata = glp.AndroidDerived2022(\"../data/device_gnss.csv\")"
   ]
  },
  {
   "cell_type": "markdown",
   "metadata": {},
   "source": [
    "Since we already have elevation and azimuth data available to us, we can simply\n",
    "call the `get_dop` function."
   ]
  },
  {
   "cell_type": "code",
   "execution_count": null,
   "metadata": {},
   "outputs": [],
   "source": [
    "dop_navdata = glp.get_dop(navdata)\n",
    "print(dop_navdata)"
   ]
  }
 ],
 "metadata": {
  "kernelspec": {
   "display_name": "gnss-lib-py-FzLQXRBT-py3.11",
   "language": "python",
   "name": "python3"
  },
  "language_info": {
   "codemirror_mode": {
    "name": "ipython",
    "version": 3
   },
   "file_extension": ".py",
   "mimetype": "text/x-python",
   "name": "python",
   "nbconvert_exporter": "python",
   "pygments_lexer": "ipython3",
   "version": "3.11.7"
  }
 },
 "nbformat": 4,
 "nbformat_minor": 2
}
