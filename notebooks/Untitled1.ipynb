{
 "cells": [
  {
   "cell_type": "code",
   "execution_count": 1,
   "id": "6bf21419",
   "metadata": {},
   "outputs": [],
   "source": [
    "import gnss_lib_py as glp"
   ]
  },
  {
   "cell_type": "code",
   "execution_count": 2,
   "id": "dc046aaa",
   "metadata": {},
   "outputs": [],
   "source": [
    "def solution_method(navdata):\n",
    "    \n",
    "    navdata = glp.solve_fde(navdata, method=\"edm\", remove_outliers=True)\n",
    "    \n",
    "    state_estimate = glp.solve_wls(navdata)\n",
    "    \n",
    "    return state_estimate"
   ]
  },
  {
   "cell_type": "code",
   "execution_count": 3,
   "id": "915d3b7a",
   "metadata": {},
   "outputs": [
    {
     "name": "stdout",
     "output_type": "stream",
     "text": [
      "solving: 2021-04-28-US-MTV-2 SamsungGalaxyS20Ultra\n"
     ]
    },
    {
     "name": "stderr",
     "output_type": "stream",
     "text": [
      "/home/derek/gnss_lib_py/gnss_lib_py/algorithms/snapshot.py:302: RuntimeWarning: Newton Raphson did not converge.\n",
      "  warnings.warn(\"Newton Raphson did not converge.\", RuntimeWarning)\n"
     ]
    },
    {
     "name": "stdout",
     "output_type": "stream",
     "text": [
      "solving: 2021-06-22-US-MTV-1 XiaomiMi8\n"
     ]
    },
    {
     "name": "stderr",
     "output_type": "stream",
     "text": [
      "/home/derek/gnss_lib_py/gnss_lib_py/algorithms/snapshot.py:302: RuntimeWarning: Newton Raphson did not converge.\n",
      "  warnings.warn(\"Newton Raphson did not converge.\", RuntimeWarning)\n"
     ]
    }
   ],
   "source": [
    "submission = glp.solve_kaggle_dataset(folder_path = \"/home/derek/datasets/google-decimeter-2022/test_short/\",\n",
    "                                      solver = solution_method,\n",
    "                                      verbose = True)"
   ]
  },
  {
   "cell_type": "code",
   "execution_count": 4,
   "id": "de4e4b97",
   "metadata": {},
   "outputs": [
    {
     "data": {
      "text/plain": [
       "                                         tripId  UnixTimeMillis  \\\n",
       "0     2021-04-28-US-MTV-2/SamsungGalaxyS20Ultra   1619650832999   \n",
       "1     2021-04-28-US-MTV-2/SamsungGalaxyS20Ultra   1619650833999   \n",
       "2     2021-04-28-US-MTV-2/SamsungGalaxyS20Ultra   1619650834999   \n",
       "3     2021-04-28-US-MTV-2/SamsungGalaxyS20Ultra   1619650835999   \n",
       "4     2021-04-28-US-MTV-2/SamsungGalaxyS20Ultra   1619650836999   \n",
       "...                                         ...             ...   \n",
       "3117              2021-06-22-US-MTV-1/XiaomiMi8   1624401972999   \n",
       "3118              2021-06-22-US-MTV-1/XiaomiMi8   1624401973999   \n",
       "3119              2021-06-22-US-MTV-1/XiaomiMi8   1624401974999   \n",
       "3120              2021-06-22-US-MTV-1/XiaomiMi8   1624401975999   \n",
       "3121              2021-06-22-US-MTV-1/XiaomiMi8   1624401976999   \n",
       "\n",
       "      LatitudeDegrees  LongitudeDegrees  \n",
       "0           37.395828       -122.102977  \n",
       "1           37.395812       -122.102960  \n",
       "2           37.395813       -122.102971  \n",
       "3           37.395815       -122.102929  \n",
       "4           37.395840       -122.102959  \n",
       "...               ...               ...  \n",
       "3117        37.460172       -122.137210  \n",
       "3118        37.460174       -122.137275  \n",
       "3119        37.460183       -122.137270  \n",
       "3120        37.460199       -122.137234  \n",
       "3121        37.460185       -122.137247  \n",
       "\n",
       "[4 rows x 3122 columns]"
      ]
     },
     "execution_count": 4,
     "metadata": {},
     "output_type": "execute_result"
    }
   ],
   "source": [
    "submission"
   ]
  },
  {
   "cell_type": "code",
   "execution_count": 5,
   "id": "16edb094",
   "metadata": {},
   "outputs": [],
   "source": [
    "# after the submission NavData object is created, save it to a csv with:\n",
    "submission.to_csv(\"file_path.csv\")"
   ]
  },
  {
   "cell_type": "code",
   "execution_count": null,
   "id": "9b262167",
   "metadata": {},
   "outputs": [],
   "source": []
  }
 ],
 "metadata": {
  "kernelspec": {
   "display_name": "Python 3 (ipykernel)",
   "language": "python",
   "name": "python3"
  },
  "language_info": {
   "codemirror_mode": {
    "name": "ipython",
    "version": 3
   },
   "file_extension": ".py",
   "mimetype": "text/x-python",
   "name": "python",
   "nbconvert_exporter": "python",
   "pygments_lexer": "ipython3",
   "version": "3.8.9"
  }
 },
 "nbformat": 4,
 "nbformat_minor": 5
}
